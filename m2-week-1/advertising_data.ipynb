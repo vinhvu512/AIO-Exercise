{
 "nbformat": 4,
 "nbformat_minor": 0,
 "metadata": {
  "colab": {
   "provenance": []
  },
  "kernelspec": {
   "name": "python3",
   "display_name": "Python 3 (ipykernel)",
   "language": "python"
  },
  "language_info": {
   "name": "python"
  }
 },
 "cells": [
  {
   "cell_type": "code",
   "source": [
    "import pandas as pd\n",
    "df = pd.read_csv('advertising.csv')\n",
    "data = df.to_numpy()"
   ],
   "metadata": {
    "id": "9-Gg3bZwpUJJ",
    "ExecuteTime": {
     "end_time": "2024-07-08T10:13:12.288945Z",
     "start_time": "2024-07-08T10:13:12.272405Z"
    }
   },
   "outputs": [],
   "execution_count": 4
  },
  {
   "cell_type": "code",
   "source": [
    "import numpy as np\n",
    "max_value = np.max(data[:,3])\n",
    "max_index = np.argmax(data[:,3])\n",
    "print(\"Max value of Sales:\", max_value)\n",
    "print(\"Max index of Sales:\", max_index)\n"
   ],
   "metadata": {
    "colab": {
     "base_uri": "https://localhost:8080/"
    },
    "id": "TH6PCcxQpULw",
    "outputId": "918adeb0-d661-412c-e56e-bca3f4ed62f1",
    "ExecuteTime": {
     "end_time": "2024-07-08T10:13:12.294023Z",
     "start_time": "2024-07-08T10:13:12.290948Z"
    }
   },
   "outputs": [
    {
     "name": "stdout",
     "output_type": "stream",
     "text": [
      "Max value of Sales: 27.0\n",
      "Max index of Sales: 175\n"
     ]
    }
   ],
   "execution_count": 5
  },
  {
   "cell_type": "code",
   "source": [
    "avg_value = np.average(data[:,0])\n",
    "print(\"Average value of TV:\", avg_value)"
   ],
   "metadata": {
    "colab": {
     "base_uri": "https://localhost:8080/"
    },
    "id": "3tYxhZjDpUOi",
    "outputId": "b8aae222-f721-4292-b196-9a25cd18bce9",
    "ExecuteTime": {
     "end_time": "2024-07-08T10:13:12.296638Z",
     "start_time": "2024-07-08T10:13:12.294719Z"
    }
   },
   "outputs": [
    {
     "name": "stdout",
     "output_type": "stream",
     "text": [
      "Average value of TV: 147.0425\n"
     ]
    }
   ],
   "execution_count": 6
  },
  {
   "cell_type": "code",
   "source": [
    "sales_greater_than_20 = data[data[:, 3] >= 20]\n",
    "num_records = len(sales_greater_than_20)\n",
    "print(\"Number of records with Sales greater than or equal to 20:\", num_records)\n"
   ],
   "metadata": {
    "colab": {
     "base_uri": "https://localhost:8080/"
    },
    "id": "VaKxhWmYpURG",
    "outputId": "8336d362-65a8-48a3-e340-540863ce227f",
    "ExecuteTime": {
     "end_time": "2024-07-08T10:13:12.299750Z",
     "start_time": "2024-07-08T10:13:12.297378Z"
    }
   },
   "outputs": [
    {
     "name": "stdout",
     "output_type": "stream",
     "text": [
      "Number of records with Sales greater than or equal to 20: 40\n"
     ]
    }
   ],
   "execution_count": 7
  },
  {
   "cell_type": "code",
   "source": [
    "data_sales_greater_than_15 = data[data[:, 3] >= 15]\n",
    "avg_radio = np.average(data_sales_greater_than_15[:, 1])\n",
    "print(\"Average value of Radio for Sales greater than or equal to 15:\", avg_radio)"
   ],
   "metadata": {
    "colab": {
     "base_uri": "https://localhost:8080/"
    },
    "id": "46OykfQKpUTw",
    "outputId": "067add8a-b5c3-4849-ad60-f731ab89e36b",
    "ExecuteTime": {
     "end_time": "2024-07-08T10:13:12.304340Z",
     "start_time": "2024-07-08T10:13:12.301598Z"
    }
   },
   "outputs": [
    {
     "name": "stdout",
     "output_type": "stream",
     "text": [
      "Average value of Radio for Sales greater than or equal to 15: 26.22293577981651\n"
     ]
    }
   ],
   "execution_count": 8
  },
  {
   "cell_type": "code",
   "source": [
    "data_news_greater_than_avgnews = data[data[:, 2] > np.average(data[:, 2])]\n",
    "sum_sales = np.sum(data_news_greater_than_avgnews[:, 3])\n",
    "print(\"Sum of Sales for Newpapers greater than Average Newpapers:\", sum_sales)"
   ],
   "metadata": {
    "colab": {
     "base_uri": "https://localhost:8080/"
    },
    "id": "Tri1yI6-xO4v",
    "outputId": "63ab154a-438e-4424-d3cd-10b3248c5aeb",
    "ExecuteTime": {
     "end_time": "2024-07-08T10:13:12.307626Z",
     "start_time": "2024-07-08T10:13:12.305084Z"
    }
   },
   "outputs": [
    {
     "name": "stdout",
     "output_type": "stream",
     "text": [
      "Sum of Sales for Newpapers greater than Average Newpapers: 1405.1\n"
     ]
    }
   ],
   "execution_count": 9
  },
  {
   "cell_type": "code",
   "source": [
    "avg_sales = np.average(data[:, 3])\n",
    "\n",
    "scores = []\n",
    "\n",
    "for sale in data[:, 3]:\n",
    "  if sale > avg_sales:\n",
    "    scores.append(\"Good\")\n",
    "  elif sale < avg_sales:\n",
    "    scores.append(\"Bad\")\n",
    "  else :\n",
    "    scores.append(\"Average\")\n",
    "\n",
    "print(scores[7:10])\n"
   ],
   "metadata": {
    "colab": {
     "base_uri": "https://localhost:8080/"
    },
    "id": "HBoyJfSNx69_",
    "outputId": "1dfc2d6f-2554-467a-8281-70f9ed2b9239",
    "ExecuteTime": {
     "end_time": "2024-07-08T10:13:12.310864Z",
     "start_time": "2024-07-08T10:13:12.308653Z"
    }
   },
   "outputs": [
    {
     "name": "stdout",
     "output_type": "stream",
     "text": [
      "['Bad', 'Bad', 'Good']\n"
     ]
    }
   ],
   "execution_count": 10
  },
  {
   "cell_type": "code",
   "source": [
    "avg_sales = np.average(data[:, 3])\n",
    "\n",
    "closest_to_avg = min(data[:, 3], key=lambda x: abs(x - avg_sales))\n",
    "\n",
    "scores = []\n",
    "\n",
    "for sale in data[:, 3]:\n",
    "  if sale > closest_to_avg:\n",
    "    scores.append(\"Good\")\n",
    "  elif sale < closest_to_avg:\n",
    "    scores.append(\"Bad\")\n",
    "  else :\n",
    "    scores.append(\"Average\")\n",
    "\n",
    "print(scores[7:10])\n"
   ],
   "metadata": {
    "colab": {
     "base_uri": "https://localhost:8080/"
    },
    "id": "S3ve1oeOywc5",
    "outputId": "e5b0ece8-69b4-4e9d-a5ca-c214a3ae1d4c",
    "ExecuteTime": {
     "end_time": "2024-07-08T10:13:12.314284Z",
     "start_time": "2024-07-08T10:13:12.311511Z"
    }
   },
   "outputs": [
    {
     "name": "stdout",
     "output_type": "stream",
     "text": [
      "['Bad', 'Bad', 'Good']\n"
     ]
    }
   ],
   "execution_count": 11
  },
  {
   "cell_type": "code",
   "source": [],
   "metadata": {
    "id": "rUxC-behzxPN",
    "ExecuteTime": {
     "end_time": "2024-07-08T10:13:12.316640Z",
     "start_time": "2024-07-08T10:13:12.315226Z"
    }
   },
   "outputs": [],
   "execution_count": 11
  },
  {
   "metadata": {
    "ExecuteTime": {
     "end_time": "2024-07-08T10:13:12.319908Z",
     "start_time": "2024-07-08T10:13:12.318629Z"
    }
   },
   "cell_type": "code",
   "source": "",
   "outputs": [],
   "execution_count": 11
  }
 ]
}

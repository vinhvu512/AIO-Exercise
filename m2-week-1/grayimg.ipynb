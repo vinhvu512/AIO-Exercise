{
 "nbformat": 4,
 "nbformat_minor": 0,
 "metadata": {
  "colab": {
   "provenance": []
  },
  "kernelspec": {
   "name": "python3",
   "display_name": "Python 3 (ipykernel)",
   "language": "python"
  },
  "language_info": {
   "name": "python"
  }
 },
 "cells": [
  {
   "cell_type": "code",
   "source": [
    "import matplotlib.image as mpimg\n",
    "img = mpimg.imread('dog.jpeg')"
   ],
   "metadata": {
    "id": "PhSUUShSrmFo",
    "ExecuteTime": {
     "end_time": "2024-07-08T10:12:36.309642Z",
     "start_time": "2024-07-08T10:12:36.293755Z"
    }
   },
   "outputs": [],
   "execution_count": 10
  },
  {
   "cell_type": "code",
   "source": [
    "import numpy as np\n",
    "\n",
    "red, green, blue = img[:, :, 0], img[:, :, 1], img[:, :, 2]"
   ],
   "metadata": {
    "id": "wtTcbiU8rmLD",
    "ExecuteTime": {
     "end_time": "2024-07-08T10:12:36.319736Z",
     "start_time": "2024-07-08T10:12:36.315429Z"
    }
   },
   "outputs": [],
   "execution_count": 11
  },
  {
   "cell_type": "code",
   "source": [
    "print(red)\n",
    "print(green)\n",
    "print(blue)"
   ],
   "metadata": {
    "colab": {
     "base_uri": "https://localhost:8080/"
    },
    "id": "ZUbB_qGErmN7",
    "outputId": "c0b0ff8f-5a36-4405-f8e0-05161d39860e",
    "ExecuteTime": {
     "end_time": "2024-07-08T10:12:36.327891Z",
     "start_time": "2024-07-08T10:12:36.321548Z"
    }
   },
   "outputs": [
    {
     "name": "stdout",
     "output_type": "stream",
     "text": [
      "[[118  89  82 ... 151 151 151]\n",
      " [119  89  83 ... 151 151 151]\n",
      " [119  90  83 ... 151 150 150]\n",
      " ...\n",
      " [145 126 119 ... 116 112 110]\n",
      " [138 119 112 ... 116 112 110]\n",
      " [136 117 109 ... 117 113 111]]\n",
      "[[134 105  98 ... 163 163 163]\n",
      " [135 105  99 ... 163 163 163]\n",
      " [135 106  99 ... 164 163 163]\n",
      " ...\n",
      " [155 136 131 ... 152 149 147]\n",
      " [148 129 124 ... 151 149 147]\n",
      " [146 127 121 ... 152 149 147]]\n",
      "[[ 71  42  35 ... 149 149 149]\n",
      " [ 72  42  36 ... 149 149 149]\n",
      " [ 72  43  36 ... 147 146 146]\n",
      " ...\n",
      " [ 94  75  65 ...  82  79  77]\n",
      " [ 87  68  58 ...  85  80  78]\n",
      " [ 85  66  55 ...  88  85  83]]\n"
     ]
    }
   ],
   "execution_count": 12
  },
  {
   "cell_type": "code",
   "source": [
    "#Lightness\n",
    "max_rgb = np.max(np.array([red, green, blue]), axis=0)\n",
    "min_rgb = np.min(np.array([red, green, blue]), axis=0)\n",
    "\n",
    "# Print the results\n",
    "print(\"Maximum RGB values:\", max_rgb)\n",
    "print(\"Minimum RGB values:\", min_rgb)\n",
    "\n",
    "ligtness_img = (max_rgb + min_rgb) / 2\n",
    "mpimg.imsave('dog_lightness.png', ligtness_img)\n",
    "ligtness_img[0, 0]\n"
   ],
   "metadata": {
    "id": "F4OBdUnErmRO",
    "colab": {
     "base_uri": "https://localhost:8080/"
    },
    "outputId": "b190bea4-f276-4f7d-da56-cc5410faf8ac",
    "ExecuteTime": {
     "end_time": "2024-07-08T10:12:36.428469Z",
     "start_time": "2024-07-08T10:12:36.329275Z"
    }
   },
   "outputs": [
    {
     "name": "stdout",
     "output_type": "stream",
     "text": [
      "Maximum RGB values: [[134 105  98 ... 163 163 163]\n",
      " [135 105  99 ... 163 163 163]\n",
      " [135 106  99 ... 164 163 163]\n",
      " ...\n",
      " [155 136 131 ... 152 149 147]\n",
      " [148 129 124 ... 151 149 147]\n",
      " [146 127 121 ... 152 149 147]]\n",
      "Minimum RGB values: [[ 71  42  35 ... 149 149 149]\n",
      " [ 72  42  36 ... 149 149 149]\n",
      " [ 72  43  36 ... 147 146 146]\n",
      " ...\n",
      " [ 94  75  65 ...  82  79  77]\n",
      " [ 87  68  58 ...  85  80  78]\n",
      " [ 85  66  55 ...  88  85  83]]\n"
     ]
    },
    {
     "data": {
      "text/plain": [
       "102.5"
      ]
     },
     "execution_count": 13,
     "metadata": {},
     "output_type": "execute_result"
    }
   ],
   "execution_count": 13
  },
  {
   "cell_type": "code",
   "source": [
    "#Average\n",
    "avg_rgb = np.mean(np.array([red, green, blue]), axis=0)\n",
    "mpimg.imsave('dog_avg.png', avg_rgb)\n",
    "avg_rgb[0, 0]\n",
    "\n"
   ],
   "metadata": {
    "colab": {
     "base_uri": "https://localhost:8080/"
    },
    "id": "n3HNlHQfkaiJ",
    "outputId": "10ea6a5d-21ed-498b-f427-403f3a310eac",
    "ExecuteTime": {
     "end_time": "2024-07-08T10:12:36.524960Z",
     "start_time": "2024-07-08T10:12:36.429941Z"
    }
   },
   "outputs": [
    {
     "data": {
      "text/plain": [
       "107.66666666666667"
      ]
     },
     "execution_count": 14,
     "metadata": {},
     "output_type": "execute_result"
    }
   ],
   "execution_count": 14
  },
  {
   "cell_type": "code",
   "source": [
    "#Luminosity\n",
    "luminosity_img = 0.2126 * red + 0.7152 * green + 0.0722 * blue\n",
    "mpimg.imsave('dog_luminosity.png', luminosity_img)\n",
    "luminosity_img[0, 0]"
   ],
   "metadata": {
    "colab": {
     "base_uri": "https://localhost:8080/"
    },
    "id": "Q53_5YcElovb",
    "outputId": "45a130d4-712b-4cb6-e900-92009e375b93",
    "ExecuteTime": {
     "end_time": "2024-07-08T10:12:36.624072Z",
     "start_time": "2024-07-08T10:12:36.525699Z"
    }
   },
   "outputs": [
    {
     "data": {
      "text/plain": [
       "126.04979999999999"
      ]
     },
     "execution_count": 15,
     "metadata": {},
     "output_type": "execute_result"
    }
   ],
   "execution_count": 15
  },
  {
   "cell_type": "code",
   "source": [],
   "metadata": {
    "id": "3C4uJ4uUoayv",
    "ExecuteTime": {
     "end_time": "2024-07-08T10:12:36.626914Z",
     "start_time": "2024-07-08T10:12:36.624863Z"
    }
   },
   "outputs": [],
   "execution_count": 15
  }
 ]
}
